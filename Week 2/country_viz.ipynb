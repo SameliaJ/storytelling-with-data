{
 "cells": [
  {
   "cell_type": "code",
   "execution_count": 5,
   "id": "0f74cb71",
   "metadata": {},
   "outputs": [
    {
     "data": {
      "application/vnd.plotly.v1+json": {
       "config": {
        "plotlyServerURL": "https://plot.ly"
       },
       "data": [
        {
         "coloraxis": "coloraxis",
         "geo": "geo",
         "hovertemplate": "<b>%{hovertext}</b><br><br>CCA3=%{location}<br>2022 Population=%{z}<extra></extra>",
         "hovertext": [
          "Afghanistan",
          "Albania",
          "Algeria",
          "American Samoa",
          "Andorra",
          "Angola",
          "Anguilla",
          "Antigua and Barbuda",
          "Argentina",
          "Armenia",
          "Aruba",
          "Australia",
          "Austria",
          "Azerbaijan",
          "Bahamas",
          "Bahrain",
          "Bangladesh",
          "Barbados",
          "Belarus",
          "Belgium",
          "Belize",
          "Benin",
          "Bermuda",
          "Bhutan",
          "Bolivia",
          "Bosnia and Herzegovina",
          "Botswana",
          "Brazil",
          "British Virgin Islands",
          "Brunei",
          "Bulgaria",
          "Burkina Faso",
          "Burundi",
          "Cambodia",
          "Cameroon",
          "Canada",
          "Cape Verde",
          "Cayman Islands",
          "Central African Republic",
          "Chad",
          "Chile",
          "China",
          "Colombia",
          "Comoros",
          "Cook Islands",
          "Costa Rica",
          "Croatia",
          "Cuba",
          "Curacao",
          "Cyprus",
          "Czech Republic",
          "Denmark",
          "Djibouti",
          "Dominica",
          "Dominican Republic",
          "DR Congo",
          "Ecuador",
          "Egypt",
          "El Salvador",
          "Equatorial Guinea",
          "Eritrea",
          "Estonia",
          "Eswatini",
          "Ethiopia",
          "Falkland Islands",
          "Faroe Islands",
          "Fiji",
          "Finland",
          "France",
          "French Guiana",
          "French Polynesia",
          "Gabon",
          "Gambia",
          "Georgia",
          "Germany",
          "Ghana",
          "Gibraltar",
          "Greece",
          "Greenland",
          "Grenada",
          "Guadeloupe",
          "Guam",
          "Guatemala",
          "Guernsey",
          "Guinea",
          "Guinea-Bissau",
          "Guyana",
          "Haiti",
          "Honduras",
          "Hong Kong",
          "Hungary",
          "Iceland",
          "India",
          "Indonesia",
          "Iran",
          "Iraq",
          "Ireland",
          "Isle of Man",
          "Israel",
          "Italy",
          "Ivory Coast",
          "Jamaica",
          "Japan",
          "Jersey",
          "Jordan",
          "Kazakhstan",
          "Kenya",
          "Kiribati",
          "Kuwait",
          "Kyrgyzstan",
          "Laos",
          "Latvia",
          "Lebanon",
          "Lesotho",
          "Liberia",
          "Libya",
          "Liechtenstein",
          "Lithuania",
          "Luxembourg",
          "Macau",
          "Madagascar",
          "Malawi",
          "Malaysia",
          "Maldives",
          "Mali",
          "Malta",
          "Marshall Islands",
          "Martinique",
          "Mauritania",
          "Mauritius",
          "Mayotte",
          "Mexico",
          "Micronesia",
          "Moldova",
          "Monaco",
          "Mongolia",
          "Montenegro",
          "Montserrat",
          "Morocco",
          "Mozambique",
          "Myanmar",
          "Namibia",
          "Nauru",
          "Nepal",
          "Netherlands",
          "New Caledonia",
          "New Zealand",
          "Nicaragua",
          "Niger",
          "Nigeria",
          "Niue",
          "North Korea",
          "North Macedonia",
          "Northern Mariana Islands",
          "Norway",
          "Oman",
          "Pakistan",
          "Palau",
          "Palestine",
          "Panama",
          "Papua New Guinea",
          "Paraguay",
          "Peru",
          "Philippines",
          "Poland",
          "Portugal",
          "Puerto Rico",
          "Qatar",
          "Republic of the Congo",
          "Reunion",
          "Romania",
          "Russia",
          "Rwanda",
          "Saint Barthelemy",
          "Saint Kitts and Nevis",
          "Saint Lucia",
          "Saint Martin",
          "Saint Pierre and Miquelon",
          "Saint Vincent and the Grenadines",
          "Samoa",
          "San Marino",
          "Sao Tome and Principe",
          "Saudi Arabia",
          "Senegal",
          "Serbia",
          "Seychelles",
          "Sierra Leone",
          "Singapore",
          "Sint Maarten",
          "Slovakia",
          "Slovenia",
          "Solomon Islands",
          "Somalia",
          "South Africa",
          "South Korea",
          "South Sudan",
          "Spain",
          "Sri Lanka",
          "Sudan",
          "Suriname",
          "Sweden",
          "Switzerland",
          "Syria",
          "Taiwan",
          "Tajikistan",
          "Tanzania",
          "Thailand",
          "Timor-Leste",
          "Togo",
          "Tokelau",
          "Tonga",
          "Trinidad and Tobago",
          "Tunisia",
          "Turkey",
          "Turkmenistan",
          "Turks and Caicos Islands",
          "Tuvalu",
          "Uganda",
          "Ukraine",
          "United Arab Emirates",
          "United Kingdom",
          "United States",
          "United States Virgin Islands",
          "Uruguay",
          "Uzbekistan",
          "Vanuatu",
          "Vatican City",
          "Venezuela",
          "Vietnam",
          "Wallis and Futuna",
          "Western Sahara",
          "Yemen",
          "Zambia",
          "Zimbabwe"
         ],
         "locations": [
          "AFG",
          "ALB",
          "DZA",
          "ASM",
          "AND",
          "AGO",
          "AIA",
          "ATG",
          "ARG",
          "ARM",
          "ABW",
          "AUS",
          "AUT",
          "AZE",
          "BHS",
          "BHR",
          "BGD",
          "BRB",
          "BLR",
          "BEL",
          "BLZ",
          "BEN",
          "BMU",
          "BTN",
          "BOL",
          "BIH",
          "BWA",
          "BRA",
          "VGB",
          "BRN",
          "BGR",
          "BFA",
          "BDI",
          "KHM",
          "CMR",
          "CAN",
          "CPV",
          "CYM",
          "CAF",
          "TCD",
          "CHL",
          "CHN",
          "COL",
          "COM",
          "COK",
          "CRI",
          "HRV",
          "CUB",
          "CUW",
          "CYP",
          "CZE",
          "DNK",
          "DJI",
          "DMA",
          "DOM",
          "COD",
          "ECU",
          "EGY",
          "SLV",
          "GNQ",
          "ERI",
          "EST",
          "SWZ",
          "ETH",
          "FLK",
          "FRO",
          "FJI",
          "FIN",
          "FRA",
          "GUF",
          "PYF",
          "GAB",
          "GMB",
          "GEO",
          "DEU",
          "GHA",
          "GIB",
          "GRC",
          "GRL",
          "GRD",
          "GLP",
          "GUM",
          "GTM",
          "GGY",
          "GIN",
          "GNB",
          "GUY",
          "HTI",
          "HND",
          "HKG",
          "HUN",
          "ISL",
          "IND",
          "IDN",
          "IRN",
          "IRQ",
          "IRL",
          "IMN",
          "ISR",
          "ITA",
          "CIV",
          "JAM",
          "JPN",
          "JEY",
          "JOR",
          "KAZ",
          "KEN",
          "KIR",
          "KWT",
          "KGZ",
          "LAO",
          "LVA",
          "LBN",
          "LSO",
          "LBR",
          "LBY",
          "LIE",
          "LTU",
          "LUX",
          "MAC",
          "MDG",
          "MWI",
          "MYS",
          "MDV",
          "MLI",
          "MLT",
          "MHL",
          "MTQ",
          "MRT",
          "MUS",
          "MYT",
          "MEX",
          "FSM",
          "MDA",
          "MCO",
          "MNG",
          "MNE",
          "MSR",
          "MAR",
          "MOZ",
          "MMR",
          "NAM",
          "NRU",
          "NPL",
          "NLD",
          "NCL",
          "NZL",
          "NIC",
          "NER",
          "NGA",
          "NIU",
          "PRK",
          "MKD",
          "NFK",
          "NOR",
          "OMN",
          "PAK",
          "PLW",
          "PSE",
          "PAN",
          "PNG",
          "PRY",
          "PER",
          "PHL",
          "POL",
          "PRT",
          "PRI",
          "QAT",
          "COG",
          "REU",
          "ROU",
          "RUS",
          "RWA",
          "BLM",
          "KNA",
          "LCA",
          "MAF",
          "SPM",
          "VCT",
          "WSM",
          "SMR",
          "STP",
          "SAU",
          "SEN",
          "SRB",
          "SYC",
          "SLE",
          "SGP",
          "SXM",
          "SVK",
          "SVN",
          "SLB",
          "SOM",
          "ZAF",
          "KOR",
          "SSD",
          "ESP",
          "LKA",
          "SDN",
          "SUR",
          "SWE",
          "CHE",
          "SYR",
          "TWN",
          "TJK",
          "TZA",
          "THA",
          "TLS",
          "TGO",
          "TKL",
          "TON",
          "TTO",
          "TUN",
          "TUR",
          "TKM",
          "TCA",
          "TUV",
          "UGA",
          "UKR",
          "ARE",
          "GBR",
          "USA",
          "VIR",
          "URY",
          "UZB",
          "VUT",
          "VAT",
          "VEN",
          "VNM",
          "WLF",
          "ESH",
          "YEM",
          "ZMB",
          "ZWE"
         ],
         "name": "",
         "type": "choropleth",
         "z": {
          "bdata": "Q5NzAtFeKwA5K60C8awAANA3AQB7Cx8C8T0AAENuAQCubrYCNW0qAM2fAQCFb48BYWiIADoNngCAQQYA6XYWAMQYNAojTAQA6n2RAPrasQAYLwYAoL/LALj6AAB38AsAboa6APZWMQCYIigAWmzVDEl6AADq2QYAAXxnAGL5WQHorcQAYtv/ACjxqQE3xEoC/QwJAGIMAQCIIVUAs28OARUhKwFpUP1U6IgXA6bEDABzQgAAnQ1PAJZ/PQCfFasAu+oCAKAYEwAiIKAAlcFZAFEaEQAhHAEAlVarAKTG5gVorBIBF5OdBoivYACcjhkAwDY4AO47FAAGVhIA1KBaB8QOAABizwAA5i8OAImLVADEH9oDraUEAGesBAAAdCQASEopAIEiOQBzH/gEHs3+AYl/AABLdp4AktwAAP7pAQDoCQYA/p4CAMRGEAFF9wAADXrTAN4gIAAWVwwA5MWwAFwxnwBhRXIAzBaYAKOwBQC1WHhUG9FrEKosRwX69KYChaVMACdKAQDl6YkAIteEAx6yrQFxJCsATFpjB7qwAQBtNawAbv0nAd9kOAOgAAIASSNBAN8sZQAD5HIAGz0cAEvEUwAhLyMAmelQALXyZwCfmQAAZ/YpAK/hCQCAmwoAwtbDAUVcNwEt2wUCC/4HADbAWAEmIwgAYaIAAJObBQCLREgADdQTANX5BAD9jpkH9L0BACTxMQB1jgAA3tozAIqRCQAmEQAAM5A7Ai0T9wHqtToDZCsnAHwxAAB8HtIBbgEMAZ5sBAAIH08AKAZqAOnmjwGcrAYNjgcAAKjJjQEf8h8Aj8EAAM/rUgAq1EUA3mYODodGAAAYHFAABUVDAJvDmgBId2cANI4HAmFK4wb5K2ACkbicALegMQDSHykA+BlbAOTcDgAD+isBYiagCDo30gDXKgAAKboAAJG+AgAvfAAA5hYAAAyWAQCuZAMAfIMAADR4AwD0jSsCYToIAXUwbgBuogEAFlCDAIkuWwCPrAAAvRxWAKRYIAAxDQsAR4QMAX3okQOCpRYDjIWmAOav1QLPIU0BXD7LAjhuCQBj+KAAeF6FAMGaUQGSlWwBE96XAJRq5wOGAkYEcHcUADsFhwBPBwAAaqEBAKRcFwAVirwAOTQWBTIgYgCHsgAAMCwAALH40ALrzF0CaQ+QAMgaBgTB5CkUiYQBAEo6NABEYBACVPwEAP4BAACA2a8BaDbaBTQtAADyyQgAZisCAgtyMQEZCPkA",
          "dtype": "i4"
         }
        }
       ],
       "layout": {
        "coloraxis": {
         "colorbar": {
          "title": {
           "text": "2022 Population"
          }
         },
         "colorscale": [
          [
           0,
           "#440154"
          ],
          [
           0.1111111111111111,
           "#482878"
          ],
          [
           0.2222222222222222,
           "#3e4989"
          ],
          [
           0.3333333333333333,
           "#31688e"
          ],
          [
           0.4444444444444444,
           "#26828e"
          ],
          [
           0.5555555555555556,
           "#1f9e89"
          ],
          [
           0.6666666666666666,
           "#35b779"
          ],
          [
           0.7777777777777778,
           "#6ece58"
          ],
          [
           0.8888888888888888,
           "#b5de2b"
          ],
          [
           1,
           "#fde725"
          ]
         ]
        },
        "geo": {
         "center": {},
         "domain": {
          "x": [
           0,
           1
          ],
          "y": [
           0,
           1
          ]
         },
         "projection": {
          "type": "natural earth"
         }
        },
        "legend": {
         "tracegroupgap": 0
        },
        "template": {
         "data": {
          "bar": [
           {
            "error_x": {
             "color": "#2a3f5f"
            },
            "error_y": {
             "color": "#2a3f5f"
            },
            "marker": {
             "line": {
              "color": "#E5ECF6",
              "width": 0.5
             },
             "pattern": {
              "fillmode": "overlay",
              "size": 10,
              "solidity": 0.2
             }
            },
            "type": "bar"
           }
          ],
          "barpolar": [
           {
            "marker": {
             "line": {
              "color": "#E5ECF6",
              "width": 0.5
             },
             "pattern": {
              "fillmode": "overlay",
              "size": 10,
              "solidity": 0.2
             }
            },
            "type": "barpolar"
           }
          ],
          "carpet": [
           {
            "aaxis": {
             "endlinecolor": "#2a3f5f",
             "gridcolor": "white",
             "linecolor": "white",
             "minorgridcolor": "white",
             "startlinecolor": "#2a3f5f"
            },
            "baxis": {
             "endlinecolor": "#2a3f5f",
             "gridcolor": "white",
             "linecolor": "white",
             "minorgridcolor": "white",
             "startlinecolor": "#2a3f5f"
            },
            "type": "carpet"
           }
          ],
          "choropleth": [
           {
            "colorbar": {
             "outlinewidth": 0,
             "ticks": ""
            },
            "type": "choropleth"
           }
          ],
          "contour": [
           {
            "colorbar": {
             "outlinewidth": 0,
             "ticks": ""
            },
            "colorscale": [
             [
              0,
              "#0d0887"
             ],
             [
              0.1111111111111111,
              "#46039f"
             ],
             [
              0.2222222222222222,
              "#7201a8"
             ],
             [
              0.3333333333333333,
              "#9c179e"
             ],
             [
              0.4444444444444444,
              "#bd3786"
             ],
             [
              0.5555555555555556,
              "#d8576b"
             ],
             [
              0.6666666666666666,
              "#ed7953"
             ],
             [
              0.7777777777777778,
              "#fb9f3a"
             ],
             [
              0.8888888888888888,
              "#fdca26"
             ],
             [
              1,
              "#f0f921"
             ]
            ],
            "type": "contour"
           }
          ],
          "contourcarpet": [
           {
            "colorbar": {
             "outlinewidth": 0,
             "ticks": ""
            },
            "type": "contourcarpet"
           }
          ],
          "heatmap": [
           {
            "colorbar": {
             "outlinewidth": 0,
             "ticks": ""
            },
            "colorscale": [
             [
              0,
              "#0d0887"
             ],
             [
              0.1111111111111111,
              "#46039f"
             ],
             [
              0.2222222222222222,
              "#7201a8"
             ],
             [
              0.3333333333333333,
              "#9c179e"
             ],
             [
              0.4444444444444444,
              "#bd3786"
             ],
             [
              0.5555555555555556,
              "#d8576b"
             ],
             [
              0.6666666666666666,
              "#ed7953"
             ],
             [
              0.7777777777777778,
              "#fb9f3a"
             ],
             [
              0.8888888888888888,
              "#fdca26"
             ],
             [
              1,
              "#f0f921"
             ]
            ],
            "type": "heatmap"
           }
          ],
          "histogram": [
           {
            "marker": {
             "pattern": {
              "fillmode": "overlay",
              "size": 10,
              "solidity": 0.2
             }
            },
            "type": "histogram"
           }
          ],
          "histogram2d": [
           {
            "colorbar": {
             "outlinewidth": 0,
             "ticks": ""
            },
            "colorscale": [
             [
              0,
              "#0d0887"
             ],
             [
              0.1111111111111111,
              "#46039f"
             ],
             [
              0.2222222222222222,
              "#7201a8"
             ],
             [
              0.3333333333333333,
              "#9c179e"
             ],
             [
              0.4444444444444444,
              "#bd3786"
             ],
             [
              0.5555555555555556,
              "#d8576b"
             ],
             [
              0.6666666666666666,
              "#ed7953"
             ],
             [
              0.7777777777777778,
              "#fb9f3a"
             ],
             [
              0.8888888888888888,
              "#fdca26"
             ],
             [
              1,
              "#f0f921"
             ]
            ],
            "type": "histogram2d"
           }
          ],
          "histogram2dcontour": [
           {
            "colorbar": {
             "outlinewidth": 0,
             "ticks": ""
            },
            "colorscale": [
             [
              0,
              "#0d0887"
             ],
             [
              0.1111111111111111,
              "#46039f"
             ],
             [
              0.2222222222222222,
              "#7201a8"
             ],
             [
              0.3333333333333333,
              "#9c179e"
             ],
             [
              0.4444444444444444,
              "#bd3786"
             ],
             [
              0.5555555555555556,
              "#d8576b"
             ],
             [
              0.6666666666666666,
              "#ed7953"
             ],
             [
              0.7777777777777778,
              "#fb9f3a"
             ],
             [
              0.8888888888888888,
              "#fdca26"
             ],
             [
              1,
              "#f0f921"
             ]
            ],
            "type": "histogram2dcontour"
           }
          ],
          "mesh3d": [
           {
            "colorbar": {
             "outlinewidth": 0,
             "ticks": ""
            },
            "type": "mesh3d"
           }
          ],
          "parcoords": [
           {
            "line": {
             "colorbar": {
              "outlinewidth": 0,
              "ticks": ""
             }
            },
            "type": "parcoords"
           }
          ],
          "pie": [
           {
            "automargin": true,
            "type": "pie"
           }
          ],
          "scatter": [
           {
            "fillpattern": {
             "fillmode": "overlay",
             "size": 10,
             "solidity": 0.2
            },
            "type": "scatter"
           }
          ],
          "scatter3d": [
           {
            "line": {
             "colorbar": {
              "outlinewidth": 0,
              "ticks": ""
             }
            },
            "marker": {
             "colorbar": {
              "outlinewidth": 0,
              "ticks": ""
             }
            },
            "type": "scatter3d"
           }
          ],
          "scattercarpet": [
           {
            "marker": {
             "colorbar": {
              "outlinewidth": 0,
              "ticks": ""
             }
            },
            "type": "scattercarpet"
           }
          ],
          "scattergeo": [
           {
            "marker": {
             "colorbar": {
              "outlinewidth": 0,
              "ticks": ""
             }
            },
            "type": "scattergeo"
           }
          ],
          "scattergl": [
           {
            "marker": {
             "colorbar": {
              "outlinewidth": 0,
              "ticks": ""
             }
            },
            "type": "scattergl"
           }
          ],
          "scattermap": [
           {
            "marker": {
             "colorbar": {
              "outlinewidth": 0,
              "ticks": ""
             }
            },
            "type": "scattermap"
           }
          ],
          "scattermapbox": [
           {
            "marker": {
             "colorbar": {
              "outlinewidth": 0,
              "ticks": ""
             }
            },
            "type": "scattermapbox"
           }
          ],
          "scatterpolar": [
           {
            "marker": {
             "colorbar": {
              "outlinewidth": 0,
              "ticks": ""
             }
            },
            "type": "scatterpolar"
           }
          ],
          "scatterpolargl": [
           {
            "marker": {
             "colorbar": {
              "outlinewidth": 0,
              "ticks": ""
             }
            },
            "type": "scatterpolargl"
           }
          ],
          "scatterternary": [
           {
            "marker": {
             "colorbar": {
              "outlinewidth": 0,
              "ticks": ""
             }
            },
            "type": "scatterternary"
           }
          ],
          "surface": [
           {
            "colorbar": {
             "outlinewidth": 0,
             "ticks": ""
            },
            "colorscale": [
             [
              0,
              "#0d0887"
             ],
             [
              0.1111111111111111,
              "#46039f"
             ],
             [
              0.2222222222222222,
              "#7201a8"
             ],
             [
              0.3333333333333333,
              "#9c179e"
             ],
             [
              0.4444444444444444,
              "#bd3786"
             ],
             [
              0.5555555555555556,
              "#d8576b"
             ],
             [
              0.6666666666666666,
              "#ed7953"
             ],
             [
              0.7777777777777778,
              "#fb9f3a"
             ],
             [
              0.8888888888888888,
              "#fdca26"
             ],
             [
              1,
              "#f0f921"
             ]
            ],
            "type": "surface"
           }
          ],
          "table": [
           {
            "cells": {
             "fill": {
              "color": "#EBF0F8"
             },
             "line": {
              "color": "white"
             }
            },
            "header": {
             "fill": {
              "color": "#C8D4E3"
             },
             "line": {
              "color": "white"
             }
            },
            "type": "table"
           }
          ]
         },
         "layout": {
          "annotationdefaults": {
           "arrowcolor": "#2a3f5f",
           "arrowhead": 0,
           "arrowwidth": 1
          },
          "autotypenumbers": "strict",
          "coloraxis": {
           "colorbar": {
            "outlinewidth": 0,
            "ticks": ""
           }
          },
          "colorscale": {
           "diverging": [
            [
             0,
             "#8e0152"
            ],
            [
             0.1,
             "#c51b7d"
            ],
            [
             0.2,
             "#de77ae"
            ],
            [
             0.3,
             "#f1b6da"
            ],
            [
             0.4,
             "#fde0ef"
            ],
            [
             0.5,
             "#f7f7f7"
            ],
            [
             0.6,
             "#e6f5d0"
            ],
            [
             0.7,
             "#b8e186"
            ],
            [
             0.8,
             "#7fbc41"
            ],
            [
             0.9,
             "#4d9221"
            ],
            [
             1,
             "#276419"
            ]
           ],
           "sequential": [
            [
             0,
             "#0d0887"
            ],
            [
             0.1111111111111111,
             "#46039f"
            ],
            [
             0.2222222222222222,
             "#7201a8"
            ],
            [
             0.3333333333333333,
             "#9c179e"
            ],
            [
             0.4444444444444444,
             "#bd3786"
            ],
            [
             0.5555555555555556,
             "#d8576b"
            ],
            [
             0.6666666666666666,
             "#ed7953"
            ],
            [
             0.7777777777777778,
             "#fb9f3a"
            ],
            [
             0.8888888888888888,
             "#fdca26"
            ],
            [
             1,
             "#f0f921"
            ]
           ],
           "sequentialminus": [
            [
             0,
             "#0d0887"
            ],
            [
             0.1111111111111111,
             "#46039f"
            ],
            [
             0.2222222222222222,
             "#7201a8"
            ],
            [
             0.3333333333333333,
             "#9c179e"
            ],
            [
             0.4444444444444444,
             "#bd3786"
            ],
            [
             0.5555555555555556,
             "#d8576b"
            ],
            [
             0.6666666666666666,
             "#ed7953"
            ],
            [
             0.7777777777777778,
             "#fb9f3a"
            ],
            [
             0.8888888888888888,
             "#fdca26"
            ],
            [
             1,
             "#f0f921"
            ]
           ]
          },
          "colorway": [
           "#636efa",
           "#EF553B",
           "#00cc96",
           "#ab63fa",
           "#FFA15A",
           "#19d3f3",
           "#FF6692",
           "#B6E880",
           "#FF97FF",
           "#FECB52"
          ],
          "font": {
           "color": "#2a3f5f"
          },
          "geo": {
           "bgcolor": "white",
           "lakecolor": "white",
           "landcolor": "#E5ECF6",
           "showlakes": true,
           "showland": true,
           "subunitcolor": "white"
          },
          "hoverlabel": {
           "align": "left"
          },
          "hovermode": "closest",
          "mapbox": {
           "style": "light"
          },
          "paper_bgcolor": "white",
          "plot_bgcolor": "#E5ECF6",
          "polar": {
           "angularaxis": {
            "gridcolor": "white",
            "linecolor": "white",
            "ticks": ""
           },
           "bgcolor": "#E5ECF6",
           "radialaxis": {
            "gridcolor": "white",
            "linecolor": "white",
            "ticks": ""
           }
          },
          "scene": {
           "xaxis": {
            "backgroundcolor": "#E5ECF6",
            "gridcolor": "white",
            "gridwidth": 2,
            "linecolor": "white",
            "showbackground": true,
            "ticks": "",
            "zerolinecolor": "white"
           },
           "yaxis": {
            "backgroundcolor": "#E5ECF6",
            "gridcolor": "white",
            "gridwidth": 2,
            "linecolor": "white",
            "showbackground": true,
            "ticks": "",
            "zerolinecolor": "white"
           },
           "zaxis": {
            "backgroundcolor": "#E5ECF6",
            "gridcolor": "white",
            "gridwidth": 2,
            "linecolor": "white",
            "showbackground": true,
            "ticks": "",
            "zerolinecolor": "white"
           }
          },
          "shapedefaults": {
           "line": {
            "color": "#2a3f5f"
           }
          },
          "ternary": {
           "aaxis": {
            "gridcolor": "white",
            "linecolor": "white",
            "ticks": ""
           },
           "baxis": {
            "gridcolor": "white",
            "linecolor": "white",
            "ticks": ""
           },
           "bgcolor": "#E5ECF6",
           "caxis": {
            "gridcolor": "white",
            "linecolor": "white",
            "ticks": ""
           }
          },
          "title": {
           "x": 0.05
          },
          "xaxis": {
           "automargin": true,
           "gridcolor": "white",
           "linecolor": "white",
           "ticks": "",
           "title": {
            "standoff": 15
           },
           "zerolinecolor": "white",
           "zerolinewidth": 2
          },
          "yaxis": {
           "automargin": true,
           "gridcolor": "white",
           "linecolor": "white",
           "ticks": "",
           "title": {
            "standoff": 15
           },
           "zerolinecolor": "white",
           "zerolinewidth": 2
          }
         }
        },
        "title": {
         "text": "World Population (2022)"
        }
       }
      }
     },
     "metadata": {},
     "output_type": "display_data"
    }
   ],
   "source": [
    "import plotly.express as px\n",
    "\n",
    "# Create choropleth map\n",
    "fig = px.choropleth(\n",
    "    df,\n",
    "    locations=\"CCA3\",  # 3-letter country code\n",
    "    color=\"2022 Population\",\n",
    "    hover_name=\"Country/Territory\",\n",
    "    color_continuous_scale=\"Viridis\",\n",
    "    projection=\"natural earth\",\n",
    "    title=\"World Population (2022)\"\n",
    ")\n",
    "\n",
    "fig.show()\n"
   ]
  },
  {
   "cell_type": "code",
   "execution_count": 8,
   "id": "cf10b46a",
   "metadata": {},
   "outputs": [
    {
     "data": {
      "application/vnd.plotly.v1+json": {
       "config": {
        "plotlyServerURL": "https://plot.ly"
       },
       "data": [
        {
         "branchvalues": "total",
         "customdata": {
          "bdata": "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",
          "dtype": "f8",
          "shape": "240, 1"
         },
         "domain": {
          "x": [
           0,
           1
          ],
          "y": [
           0,
           1
          ]
         },
         "hovertemplate": "labels=%{label}<br>2022 Population_sum=%{value}<br>parent=%{parent}<br>id=%{id}<br>2022 Population=%{color}<extra></extra>",
         "ids": [
          "Asia/Afghanistan",
          "Europe/Albania",
          "Africa/Algeria",
          "Oceania/American Samoa",
          "Europe/Andorra",
          "Africa/Angola",
          "North America/Anguilla",
          "North America/Antigua and Barbuda",
          "South America/Argentina",
          "Asia/Armenia",
          "North America/Aruba",
          "Oceania/Australia",
          "Europe/Austria",
          "Asia/Azerbaijan",
          "North America/Bahamas",
          "Asia/Bahrain",
          "Asia/Bangladesh",
          "North America/Barbados",
          "Europe/Belarus",
          "Europe/Belgium",
          "North America/Belize",
          "Africa/Benin",
          "North America/Bermuda",
          "Asia/Bhutan",
          "South America/Bolivia",
          "Europe/Bosnia and Herzegovina",
          "Africa/Botswana",
          "South America/Brazil",
          "North America/British Virgin Islands",
          "Asia/Brunei",
          "Europe/Bulgaria",
          "Africa/Burkina Faso",
          "Africa/Burundi",
          "Asia/Cambodia",
          "Africa/Cameroon",
          "North America/Canada",
          "Africa/Cape Verde",
          "North America/Cayman Islands",
          "Africa/Central African Republic",
          "Africa/Chad",
          "South America/Chile",
          "Asia/China",
          "South America/Colombia",
          "Africa/Comoros",
          "Oceania/Cook Islands",
          "North America/Costa Rica",
          "Europe/Croatia",
          "North America/Cuba",
          "North America/Curacao",
          "Europe/Cyprus",
          "Europe/Czech Republic",
          "Europe/Denmark",
          "Africa/Djibouti",
          "North America/Dominica",
          "North America/Dominican Republic",
          "Africa/DR Congo",
          "South America/Ecuador",
          "Africa/Egypt",
          "North America/El Salvador",
          "Africa/Equatorial Guinea",
          "Africa/Eritrea",
          "Europe/Estonia",
          "Africa/Eswatini",
          "Africa/Ethiopia",
          "South America/Falkland Islands",
          "Europe/Faroe Islands",
          "Oceania/Fiji",
          "Europe/Finland",
          "Europe/France",
          "South America/French Guiana",
          "Oceania/French Polynesia",
          "Africa/Gabon",
          "Africa/Gambia",
          "Asia/Georgia",
          "Europe/Germany",
          "Africa/Ghana",
          "Europe/Gibraltar",
          "Europe/Greece",
          "North America/Greenland",
          "North America/Grenada",
          "North America/Guadeloupe",
          "Oceania/Guam",
          "North America/Guatemala",
          "Europe/Guernsey",
          "Africa/Guinea",
          "Africa/Guinea-Bissau",
          "South America/Guyana",
          "North America/Haiti",
          "North America/Honduras",
          "Asia/Hong Kong",
          "Europe/Hungary",
          "Europe/Iceland",
          "Asia/India",
          "Asia/Indonesia",
          "Asia/Iran",
          "Asia/Iraq",
          "Europe/Ireland",
          "Europe/Isle of Man",
          "Asia/Israel",
          "Europe/Italy",
          "Africa/Ivory Coast",
          "North America/Jamaica",
          "Asia/Japan",
          "Europe/Jersey",
          "Asia/Jordan",
          "Asia/Kazakhstan",
          "Africa/Kenya",
          "Oceania/Kiribati",
          "Asia/Kuwait",
          "Asia/Kyrgyzstan",
          "Asia/Laos",
          "Europe/Latvia",
          "Asia/Lebanon",
          "Africa/Lesotho",
          "Africa/Liberia",
          "Africa/Libya",
          "Europe/Liechtenstein",
          "Europe/Lithuania",
          "Europe/Luxembourg",
          "Asia/Macau",
          "Africa/Madagascar",
          "Africa/Malawi",
          "Asia/Malaysia",
          "Asia/Maldives",
          "Africa/Mali",
          "Europe/Malta",
          "Oceania/Marshall Islands",
          "North America/Martinique",
          "Africa/Mauritania",
          "Africa/Mauritius",
          "Africa/Mayotte",
          "North America/Mexico",
          "Oceania/Micronesia",
          "Europe/Moldova",
          "Europe/Monaco",
          "Asia/Mongolia",
          "Europe/Montenegro",
          "North America/Montserrat",
          "Africa/Morocco",
          "Africa/Mozambique",
          "Asia/Myanmar",
          "Africa/Namibia",
          "Oceania/Nauru",
          "Asia/Nepal",
          "Europe/Netherlands",
          "Oceania/New Caledonia",
          "Oceania/New Zealand",
          "North America/Nicaragua",
          "Africa/Niger",
          "Africa/Nigeria",
          "Oceania/Niue",
          "Asia/North Korea",
          "Europe/North Macedonia",
          "Oceania/Northern Mariana Islands",
          "Europe/Norway",
          "Asia/Oman",
          "Asia/Pakistan",
          "Oceania/Palau",
          "Asia/Palestine",
          "North America/Panama",
          "Oceania/Papua New Guinea",
          "South America/Paraguay",
          "South America/Peru",
          "Asia/Philippines",
          "Europe/Poland",
          "Europe/Portugal",
          "North America/Puerto Rico",
          "Asia/Qatar",
          "Africa/Republic of the Congo",
          "Africa/Reunion",
          "Europe/Romania",
          "Europe/Russia",
          "Africa/Rwanda",
          "North America/Saint Barthelemy",
          "North America/Saint Kitts and Nevis",
          "North America/Saint Lucia",
          "North America/Saint Martin",
          "North America/Saint Pierre and Miquelon",
          "North America/Saint Vincent and the Grenadines",
          "Oceania/Samoa",
          "Europe/San Marino",
          "Africa/Sao Tome and Principe",
          "Asia/Saudi Arabia",
          "Africa/Senegal",
          "Europe/Serbia",
          "Africa/Seychelles",
          "Africa/Sierra Leone",
          "Asia/Singapore",
          "North America/Sint Maarten",
          "Europe/Slovakia",
          "Europe/Slovenia",
          "Oceania/Solomon Islands",
          "Africa/Somalia",
          "Africa/South Africa",
          "Asia/South Korea",
          "Africa/South Sudan",
          "Europe/Spain",
          "Asia/Sri Lanka",
          "Africa/Sudan",
          "South America/Suriname",
          "Europe/Sweden",
          "Europe/Switzerland",
          "Asia/Syria",
          "Asia/Taiwan",
          "Asia/Tajikistan",
          "Africa/Tanzania",
          "Asia/Thailand",
          "Asia/Timor-Leste",
          "Africa/Togo",
          "Oceania/Tokelau",
          "Oceania/Tonga",
          "North America/Trinidad and Tobago",
          "Africa/Tunisia",
          "Asia/Turkey",
          "Asia/Turkmenistan",
          "North America/Turks and Caicos Islands",
          "Oceania/Tuvalu",
          "Africa/Uganda",
          "Europe/Ukraine",
          "Asia/United Arab Emirates",
          "Europe/United Kingdom",
          "North America/United States",
          "North America/United States Virgin Islands",
          "South America/Uruguay",
          "Asia/Uzbekistan",
          "Oceania/Vanuatu",
          "Europe/Vatican City",
          "South America/Venezuela",
          "Asia/Vietnam",
          "Oceania/Wallis and Futuna",
          "Africa/Western Sahara",
          "Asia/Yemen",
          "Africa/Zambia",
          "Africa/Zimbabwe",
          "Asia",
          "Europe",
          "Africa",
          "Oceania",
          "North America",
          "South America"
         ],
         "labels": [
          "Afghanistan",
          "Albania",
          "Algeria",
          "American Samoa",
          "Andorra",
          "Angola",
          "Anguilla",
          "Antigua and Barbuda",
          "Argentina",
          "Armenia",
          "Aruba",
          "Australia",
          "Austria",
          "Azerbaijan",
          "Bahamas",
          "Bahrain",
          "Bangladesh",
          "Barbados",
          "Belarus",
          "Belgium",
          "Belize",
          "Benin",
          "Bermuda",
          "Bhutan",
          "Bolivia",
          "Bosnia and Herzegovina",
          "Botswana",
          "Brazil",
          "British Virgin Islands",
          "Brunei",
          "Bulgaria",
          "Burkina Faso",
          "Burundi",
          "Cambodia",
          "Cameroon",
          "Canada",
          "Cape Verde",
          "Cayman Islands",
          "Central African Republic",
          "Chad",
          "Chile",
          "China",
          "Colombia",
          "Comoros",
          "Cook Islands",
          "Costa Rica",
          "Croatia",
          "Cuba",
          "Curacao",
          "Cyprus",
          "Czech Republic",
          "Denmark",
          "Djibouti",
          "Dominica",
          "Dominican Republic",
          "DR Congo",
          "Ecuador",
          "Egypt",
          "El Salvador",
          "Equatorial Guinea",
          "Eritrea",
          "Estonia",
          "Eswatini",
          "Ethiopia",
          "Falkland Islands",
          "Faroe Islands",
          "Fiji",
          "Finland",
          "France",
          "French Guiana",
          "French Polynesia",
          "Gabon",
          "Gambia",
          "Georgia",
          "Germany",
          "Ghana",
          "Gibraltar",
          "Greece",
          "Greenland",
          "Grenada",
          "Guadeloupe",
          "Guam",
          "Guatemala",
          "Guernsey",
          "Guinea",
          "Guinea-Bissau",
          "Guyana",
          "Haiti",
          "Honduras",
          "Hong Kong",
          "Hungary",
          "Iceland",
          "India",
          "Indonesia",
          "Iran",
          "Iraq",
          "Ireland",
          "Isle of Man",
          "Israel",
          "Italy",
          "Ivory Coast",
          "Jamaica",
          "Japan",
          "Jersey",
          "Jordan",
          "Kazakhstan",
          "Kenya",
          "Kiribati",
          "Kuwait",
          "Kyrgyzstan",
          "Laos",
          "Latvia",
          "Lebanon",
          "Lesotho",
          "Liberia",
          "Libya",
          "Liechtenstein",
          "Lithuania",
          "Luxembourg",
          "Macau",
          "Madagascar",
          "Malawi",
          "Malaysia",
          "Maldives",
          "Mali",
          "Malta",
          "Marshall Islands",
          "Martinique",
          "Mauritania",
          "Mauritius",
          "Mayotte",
          "Mexico",
          "Micronesia",
          "Moldova",
          "Monaco",
          "Mongolia",
          "Montenegro",
          "Montserrat",
          "Morocco",
          "Mozambique",
          "Myanmar",
          "Namibia",
          "Nauru",
          "Nepal",
          "Netherlands",
          "New Caledonia",
          "New Zealand",
          "Nicaragua",
          "Niger",
          "Nigeria",
          "Niue",
          "North Korea",
          "North Macedonia",
          "Northern Mariana Islands",
          "Norway",
          "Oman",
          "Pakistan",
          "Palau",
          "Palestine",
          "Panama",
          "Papua New Guinea",
          "Paraguay",
          "Peru",
          "Philippines",
          "Poland",
          "Portugal",
          "Puerto Rico",
          "Qatar",
          "Republic of the Congo",
          "Reunion",
          "Romania",
          "Russia",
          "Rwanda",
          "Saint Barthelemy",
          "Saint Kitts and Nevis",
          "Saint Lucia",
          "Saint Martin",
          "Saint Pierre and Miquelon",
          "Saint Vincent and the Grenadines",
          "Samoa",
          "San Marino",
          "Sao Tome and Principe",
          "Saudi Arabia",
          "Senegal",
          "Serbia",
          "Seychelles",
          "Sierra Leone",
          "Singapore",
          "Sint Maarten",
          "Slovakia",
          "Slovenia",
          "Solomon Islands",
          "Somalia",
          "South Africa",
          "South Korea",
          "South Sudan",
          "Spain",
          "Sri Lanka",
          "Sudan",
          "Suriname",
          "Sweden",
          "Switzerland",
          "Syria",
          "Taiwan",
          "Tajikistan",
          "Tanzania",
          "Thailand",
          "Timor-Leste",
          "Togo",
          "Tokelau",
          "Tonga",
          "Trinidad and Tobago",
          "Tunisia",
          "Turkey",
          "Turkmenistan",
          "Turks and Caicos Islands",
          "Tuvalu",
          "Uganda",
          "Ukraine",
          "United Arab Emirates",
          "United Kingdom",
          "United States",
          "United States Virgin Islands",
          "Uruguay",
          "Uzbekistan",
          "Vanuatu",
          "Vatican City",
          "Venezuela",
          "Vietnam",
          "Wallis and Futuna",
          "Western Sahara",
          "Yemen",
          "Zambia",
          "Zimbabwe",
          "Asia",
          "Europe",
          "Africa",
          "Oceania",
          "North America",
          "South America"
         ],
         "marker": {
          "coloraxis": "coloraxis",
          "colors": {
           "bdata": "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",
           "dtype": "f8"
          }
         },
         "name": "",
         "parents": [
          "Asia",
          "Europe",
          "Africa",
          "Oceania",
          "Europe",
          "Africa",
          "North America",
          "North America",
          "South America",
          "Asia",
          "North America",
          "Oceania",
          "Europe",
          "Asia",
          "North America",
          "Asia",
          "Asia",
          "North America",
          "Europe",
          "Europe",
          "North America",
          "Africa",
          "North America",
          "Asia",
          "South America",
          "Europe",
          "Africa",
          "South America",
          "North America",
          "Asia",
          "Europe",
          "Africa",
          "Africa",
          "Asia",
          "Africa",
          "North America",
          "Africa",
          "North America",
          "Africa",
          "Africa",
          "South America",
          "Asia",
          "South America",
          "Africa",
          "Oceania",
          "North America",
          "Europe",
          "North America",
          "North America",
          "Europe",
          "Europe",
          "Europe",
          "Africa",
          "North America",
          "North America",
          "Africa",
          "South America",
          "Africa",
          "North America",
          "Africa",
          "Africa",
          "Europe",
          "Africa",
          "Africa",
          "South America",
          "Europe",
          "Oceania",
          "Europe",
          "Europe",
          "South America",
          "Oceania",
          "Africa",
          "Africa",
          "Asia",
          "Europe",
          "Africa",
          "Europe",
          "Europe",
          "North America",
          "North America",
          "North America",
          "Oceania",
          "North America",
          "Europe",
          "Africa",
          "Africa",
          "South America",
          "North America",
          "North America",
          "Asia",
          "Europe",
          "Europe",
          "Asia",
          "Asia",
          "Asia",
          "Asia",
          "Europe",
          "Europe",
          "Asia",
          "Europe",
          "Africa",
          "North America",
          "Asia",
          "Europe",
          "Asia",
          "Asia",
          "Africa",
          "Oceania",
          "Asia",
          "Asia",
          "Asia",
          "Europe",
          "Asia",
          "Africa",
          "Africa",
          "Africa",
          "Europe",
          "Europe",
          "Europe",
          "Asia",
          "Africa",
          "Africa",
          "Asia",
          "Asia",
          "Africa",
          "Europe",
          "Oceania",
          "North America",
          "Africa",
          "Africa",
          "Africa",
          "North America",
          "Oceania",
          "Europe",
          "Europe",
          "Asia",
          "Europe",
          "North America",
          "Africa",
          "Africa",
          "Asia",
          "Africa",
          "Oceania",
          "Asia",
          "Europe",
          "Oceania",
          "Oceania",
          "North America",
          "Africa",
          "Africa",
          "Oceania",
          "Asia",
          "Europe",
          "Oceania",
          "Europe",
          "Asia",
          "Asia",
          "Oceania",
          "Asia",
          "North America",
          "Oceania",
          "South America",
          "South America",
          "Asia",
          "Europe",
          "Europe",
          "North America",
          "Asia",
          "Africa",
          "Africa",
          "Europe",
          "Europe",
          "Africa",
          "North America",
          "North America",
          "North America",
          "North America",
          "North America",
          "North America",
          "Oceania",
          "Europe",
          "Africa",
          "Asia",
          "Africa",
          "Europe",
          "Africa",
          "Africa",
          "Asia",
          "North America",
          "Europe",
          "Europe",
          "Oceania",
          "Africa",
          "Africa",
          "Asia",
          "Africa",
          "Europe",
          "Asia",
          "Africa",
          "South America",
          "Europe",
          "Europe",
          "Asia",
          "Asia",
          "Asia",
          "Africa",
          "Asia",
          "Asia",
          "Africa",
          "Oceania",
          "Oceania",
          "North America",
          "Africa",
          "Asia",
          "Asia",
          "North America",
          "Oceania",
          "Africa",
          "Europe",
          "Asia",
          "Europe",
          "North America",
          "North America",
          "South America",
          "Asia",
          "Oceania",
          "Europe",
          "South America",
          "Asia",
          "Oceania",
          "Africa",
          "Asia",
          "Africa",
          "Africa",
          "",
          "",
          "",
          "",
          "",
          ""
         ],
         "type": "treemap",
         "values": {
          "bdata": "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",
          "dtype": "f8"
         }
        }
       ],
       "layout": {
        "coloraxis": {
         "colorbar": {
          "title": {
           "text": "2022 Population"
          }
         },
         "colorscale": [
          [
           0,
           "#440154"
          ],
          [
           0.1111111111111111,
           "#482878"
          ],
          [
           0.2222222222222222,
           "#3e4989"
          ],
          [
           0.3333333333333333,
           "#31688e"
          ],
          [
           0.4444444444444444,
           "#26828e"
          ],
          [
           0.5555555555555556,
           "#1f9e89"
          ],
          [
           0.6666666666666666,
           "#35b779"
          ],
          [
           0.7777777777777778,
           "#6ece58"
          ],
          [
           0.8888888888888888,
           "#b5de2b"
          ],
          [
           1,
           "#fde725"
          ]
         ]
        },
        "legend": {
         "tracegroupgap": 0
        },
        "template": {
         "data": {
          "bar": [
           {
            "error_x": {
             "color": "#2a3f5f"
            },
            "error_y": {
             "color": "#2a3f5f"
            },
            "marker": {
             "line": {
              "color": "#E5ECF6",
              "width": 0.5
             },
             "pattern": {
              "fillmode": "overlay",
              "size": 10,
              "solidity": 0.2
             }
            },
            "type": "bar"
           }
          ],
          "barpolar": [
           {
            "marker": {
             "line": {
              "color": "#E5ECF6",
              "width": 0.5
             },
             "pattern": {
              "fillmode": "overlay",
              "size": 10,
              "solidity": 0.2
             }
            },
            "type": "barpolar"
           }
          ],
          "carpet": [
           {
            "aaxis": {
             "endlinecolor": "#2a3f5f",
             "gridcolor": "white",
             "linecolor": "white",
             "minorgridcolor": "white",
             "startlinecolor": "#2a3f5f"
            },
            "baxis": {
             "endlinecolor": "#2a3f5f",
             "gridcolor": "white",
             "linecolor": "white",
             "minorgridcolor": "white",
             "startlinecolor": "#2a3f5f"
            },
            "type": "carpet"
           }
          ],
          "choropleth": [
           {
            "colorbar": {
             "outlinewidth": 0,
             "ticks": ""
            },
            "type": "choropleth"
           }
          ],
          "contour": [
           {
            "colorbar": {
             "outlinewidth": 0,
             "ticks": ""
            },
            "colorscale": [
             [
              0,
              "#0d0887"
             ],
             [
              0.1111111111111111,
              "#46039f"
             ],
             [
              0.2222222222222222,
              "#7201a8"
             ],
             [
              0.3333333333333333,
              "#9c179e"
             ],
             [
              0.4444444444444444,
              "#bd3786"
             ],
             [
              0.5555555555555556,
              "#d8576b"
             ],
             [
              0.6666666666666666,
              "#ed7953"
             ],
             [
              0.7777777777777778,
              "#fb9f3a"
             ],
             [
              0.8888888888888888,
              "#fdca26"
             ],
             [
              1,
              "#f0f921"
             ]
            ],
            "type": "contour"
           }
          ],
          "contourcarpet": [
           {
            "colorbar": {
             "outlinewidth": 0,
             "ticks": ""
            },
            "type": "contourcarpet"
           }
          ],
          "heatmap": [
           {
            "colorbar": {
             "outlinewidth": 0,
             "ticks": ""
            },
            "colorscale": [
             [
              0,
              "#0d0887"
             ],
             [
              0.1111111111111111,
              "#46039f"
             ],
             [
              0.2222222222222222,
              "#7201a8"
             ],
             [
              0.3333333333333333,
              "#9c179e"
             ],
             [
              0.4444444444444444,
              "#bd3786"
             ],
             [
              0.5555555555555556,
              "#d8576b"
             ],
             [
              0.6666666666666666,
              "#ed7953"
             ],
             [
              0.7777777777777778,
              "#fb9f3a"
             ],
             [
              0.8888888888888888,
              "#fdca26"
             ],
             [
              1,
              "#f0f921"
             ]
            ],
            "type": "heatmap"
           }
          ],
          "histogram": [
           {
            "marker": {
             "pattern": {
              "fillmode": "overlay",
              "size": 10,
              "solidity": 0.2
             }
            },
            "type": "histogram"
           }
          ],
          "histogram2d": [
           {
            "colorbar": {
             "outlinewidth": 0,
             "ticks": ""
            },
            "colorscale": [
             [
              0,
              "#0d0887"
             ],
             [
              0.1111111111111111,
              "#46039f"
             ],
             [
              0.2222222222222222,
              "#7201a8"
             ],
             [
              0.3333333333333333,
              "#9c179e"
             ],
             [
              0.4444444444444444,
              "#bd3786"
             ],
             [
              0.5555555555555556,
              "#d8576b"
             ],
             [
              0.6666666666666666,
              "#ed7953"
             ],
             [
              0.7777777777777778,
              "#fb9f3a"
             ],
             [
              0.8888888888888888,
              "#fdca26"
             ],
             [
              1,
              "#f0f921"
             ]
            ],
            "type": "histogram2d"
           }
          ],
          "histogram2dcontour": [
           {
            "colorbar": {
             "outlinewidth": 0,
             "ticks": ""
            },
            "colorscale": [
             [
              0,
              "#0d0887"
             ],
             [
              0.1111111111111111,
              "#46039f"
             ],
             [
              0.2222222222222222,
              "#7201a8"
             ],
             [
              0.3333333333333333,
              "#9c179e"
             ],
             [
              0.4444444444444444,
              "#bd3786"
             ],
             [
              0.5555555555555556,
              "#d8576b"
             ],
             [
              0.6666666666666666,
              "#ed7953"
             ],
             [
              0.7777777777777778,
              "#fb9f3a"
             ],
             [
              0.8888888888888888,
              "#fdca26"
             ],
             [
              1,
              "#f0f921"
             ]
            ],
            "type": "histogram2dcontour"
           }
          ],
          "mesh3d": [
           {
            "colorbar": {
             "outlinewidth": 0,
             "ticks": ""
            },
            "type": "mesh3d"
           }
          ],
          "parcoords": [
           {
            "line": {
             "colorbar": {
              "outlinewidth": 0,
              "ticks": ""
             }
            },
            "type": "parcoords"
           }
          ],
          "pie": [
           {
            "automargin": true,
            "type": "pie"
           }
          ],
          "scatter": [
           {
            "fillpattern": {
             "fillmode": "overlay",
             "size": 10,
             "solidity": 0.2
            },
            "type": "scatter"
           }
          ],
          "scatter3d": [
           {
            "line": {
             "colorbar": {
              "outlinewidth": 0,
              "ticks": ""
             }
            },
            "marker": {
             "colorbar": {
              "outlinewidth": 0,
              "ticks": ""
             }
            },
            "type": "scatter3d"
           }
          ],
          "scattercarpet": [
           {
            "marker": {
             "colorbar": {
              "outlinewidth": 0,
              "ticks": ""
             }
            },
            "type": "scattercarpet"
           }
          ],
          "scattergeo": [
           {
            "marker": {
             "colorbar": {
              "outlinewidth": 0,
              "ticks": ""
             }
            },
            "type": "scattergeo"
           }
          ],
          "scattergl": [
           {
            "marker": {
             "colorbar": {
              "outlinewidth": 0,
              "ticks": ""
             }
            },
            "type": "scattergl"
           }
          ],
          "scattermap": [
           {
            "marker": {
             "colorbar": {
              "outlinewidth": 0,
              "ticks": ""
             }
            },
            "type": "scattermap"
           }
          ],
          "scattermapbox": [
           {
            "marker": {
             "colorbar": {
              "outlinewidth": 0,
              "ticks": ""
             }
            },
            "type": "scattermapbox"
           }
          ],
          "scatterpolar": [
           {
            "marker": {
             "colorbar": {
              "outlinewidth": 0,
              "ticks": ""
             }
            },
            "type": "scatterpolar"
           }
          ],
          "scatterpolargl": [
           {
            "marker": {
             "colorbar": {
              "outlinewidth": 0,
              "ticks": ""
             }
            },
            "type": "scatterpolargl"
           }
          ],
          "scatterternary": [
           {
            "marker": {
             "colorbar": {
              "outlinewidth": 0,
              "ticks": ""
             }
            },
            "type": "scatterternary"
           }
          ],
          "surface": [
           {
            "colorbar": {
             "outlinewidth": 0,
             "ticks": ""
            },
            "colorscale": [
             [
              0,
              "#0d0887"
             ],
             [
              0.1111111111111111,
              "#46039f"
             ],
             [
              0.2222222222222222,
              "#7201a8"
             ],
             [
              0.3333333333333333,
              "#9c179e"
             ],
             [
              0.4444444444444444,
              "#bd3786"
             ],
             [
              0.5555555555555556,
              "#d8576b"
             ],
             [
              0.6666666666666666,
              "#ed7953"
             ],
             [
              0.7777777777777778,
              "#fb9f3a"
             ],
             [
              0.8888888888888888,
              "#fdca26"
             ],
             [
              1,
              "#f0f921"
             ]
            ],
            "type": "surface"
           }
          ],
          "table": [
           {
            "cells": {
             "fill": {
              "color": "#EBF0F8"
             },
             "line": {
              "color": "white"
             }
            },
            "header": {
             "fill": {
              "color": "#C8D4E3"
             },
             "line": {
              "color": "white"
             }
            },
            "type": "table"
           }
          ]
         },
         "layout": {
          "annotationdefaults": {
           "arrowcolor": "#2a3f5f",
           "arrowhead": 0,
           "arrowwidth": 1
          },
          "autotypenumbers": "strict",
          "coloraxis": {
           "colorbar": {
            "outlinewidth": 0,
            "ticks": ""
           }
          },
          "colorscale": {
           "diverging": [
            [
             0,
             "#8e0152"
            ],
            [
             0.1,
             "#c51b7d"
            ],
            [
             0.2,
             "#de77ae"
            ],
            [
             0.3,
             "#f1b6da"
            ],
            [
             0.4,
             "#fde0ef"
            ],
            [
             0.5,
             "#f7f7f7"
            ],
            [
             0.6,
             "#e6f5d0"
            ],
            [
             0.7,
             "#b8e186"
            ],
            [
             0.8,
             "#7fbc41"
            ],
            [
             0.9,
             "#4d9221"
            ],
            [
             1,
             "#276419"
            ]
           ],
           "sequential": [
            [
             0,
             "#0d0887"
            ],
            [
             0.1111111111111111,
             "#46039f"
            ],
            [
             0.2222222222222222,
             "#7201a8"
            ],
            [
             0.3333333333333333,
             "#9c179e"
            ],
            [
             0.4444444444444444,
             "#bd3786"
            ],
            [
             0.5555555555555556,
             "#d8576b"
            ],
            [
             0.6666666666666666,
             "#ed7953"
            ],
            [
             0.7777777777777778,
             "#fb9f3a"
            ],
            [
             0.8888888888888888,
             "#fdca26"
            ],
            [
             1,
             "#f0f921"
            ]
           ],
           "sequentialminus": [
            [
             0,
             "#0d0887"
            ],
            [
             0.1111111111111111,
             "#46039f"
            ],
            [
             0.2222222222222222,
             "#7201a8"
            ],
            [
             0.3333333333333333,
             "#9c179e"
            ],
            [
             0.4444444444444444,
             "#bd3786"
            ],
            [
             0.5555555555555556,
             "#d8576b"
            ],
            [
             0.6666666666666666,
             "#ed7953"
            ],
            [
             0.7777777777777778,
             "#fb9f3a"
            ],
            [
             0.8888888888888888,
             "#fdca26"
            ],
            [
             1,
             "#f0f921"
            ]
           ]
          },
          "colorway": [
           "#636efa",
           "#EF553B",
           "#00cc96",
           "#ab63fa",
           "#FFA15A",
           "#19d3f3",
           "#FF6692",
           "#B6E880",
           "#FF97FF",
           "#FECB52"
          ],
          "font": {
           "color": "#2a3f5f"
          },
          "geo": {
           "bgcolor": "white",
           "lakecolor": "white",
           "landcolor": "#E5ECF6",
           "showlakes": true,
           "showland": true,
           "subunitcolor": "white"
          },
          "hoverlabel": {
           "align": "left"
          },
          "hovermode": "closest",
          "mapbox": {
           "style": "light"
          },
          "paper_bgcolor": "white",
          "plot_bgcolor": "#E5ECF6",
          "polar": {
           "angularaxis": {
            "gridcolor": "white",
            "linecolor": "white",
            "ticks": ""
           },
           "bgcolor": "#E5ECF6",
           "radialaxis": {
            "gridcolor": "white",
            "linecolor": "white",
            "ticks": ""
           }
          },
          "scene": {
           "xaxis": {
            "backgroundcolor": "#E5ECF6",
            "gridcolor": "white",
            "gridwidth": 2,
            "linecolor": "white",
            "showbackground": true,
            "ticks": "",
            "zerolinecolor": "white"
           },
           "yaxis": {
            "backgroundcolor": "#E5ECF6",
            "gridcolor": "white",
            "gridwidth": 2,
            "linecolor": "white",
            "showbackground": true,
            "ticks": "",
            "zerolinecolor": "white"
           },
           "zaxis": {
            "backgroundcolor": "#E5ECF6",
            "gridcolor": "white",
            "gridwidth": 2,
            "linecolor": "white",
            "showbackground": true,
            "ticks": "",
            "zerolinecolor": "white"
           }
          },
          "shapedefaults": {
           "line": {
            "color": "#2a3f5f"
           }
          },
          "ternary": {
           "aaxis": {
            "gridcolor": "white",
            "linecolor": "white",
            "ticks": ""
           },
           "baxis": {
            "gridcolor": "white",
            "linecolor": "white",
            "ticks": ""
           },
           "bgcolor": "#E5ECF6",
           "caxis": {
            "gridcolor": "white",
            "linecolor": "white",
            "ticks": ""
           }
          },
          "title": {
           "x": 0.05
          },
          "xaxis": {
           "automargin": true,
           "gridcolor": "white",
           "linecolor": "white",
           "ticks": "",
           "title": {
            "standoff": 15
           },
           "zerolinecolor": "white",
           "zerolinewidth": 2
          },
          "yaxis": {
           "automargin": true,
           "gridcolor": "white",
           "linecolor": "white",
           "ticks": "",
           "title": {
            "standoff": 15
           },
           "zerolinecolor": "white",
           "zerolinewidth": 2
          }
         }
        },
        "title": {
         "text": "World Population Treemap (2022)"
        }
       }
      }
     },
     "metadata": {},
     "output_type": "display_data"
    }
   ],
   "source": [
    "import plotly.express as px\n",
    "\n",
    "# Treemap: Continent -> Country/Territory, sized by population\n",
    "fig = px.treemap(\n",
    "    df,\n",
    "    path=[\"Continent\", \"Country/Territory\"],  # hierarchy\n",
    "    values=\"2022 Population\",\n",
    "    color=\"2022 Population\",  # coloring by population\n",
    "    color_continuous_scale=\"Viridis\",\n",
    "    title=\"World Population Treemap (2022)\"\n",
    ")\n",
    "\n",
    "fig.show()\n"
   ]
  },
  {
   "cell_type": "code",
   "execution_count": 9,
   "id": "66f376a8",
   "metadata": {},
   "outputs": [
    {
     "data": {
      "application/vnd.plotly.v1+json": {
       "config": {
        "plotlyServerURL": "https://plot.ly"
       },
       "data": [
        {
         "branchvalues": "total",
         "customdata": {
          "bdata": "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",
          "dtype": "f8",
          "shape": "240, 1"
         },
         "domain": {
          "x": [
           0,
           1
          ],
          "y": [
           0,
           1
          ]
         },
         "hovertemplate": "labels=%{label}<br>2022 Population=%{value}<br>parent=%{parent}<br>id=%{id}<br>log_pop=%{color}<extra></extra>",
         "ids": [
          "Asia/Afghanistan",
          "Europe/Albania",
          "Africa/Algeria",
          "Oceania/American Samoa",
          "Europe/Andorra",
          "Africa/Angola",
          "North America/Anguilla",
          "North America/Antigua and Barbuda",
          "South America/Argentina",
          "Asia/Armenia",
          "North America/Aruba",
          "Oceania/Australia",
          "Europe/Austria",
          "Asia/Azerbaijan",
          "North America/Bahamas",
          "Asia/Bahrain",
          "Asia/Bangladesh",
          "North America/Barbados",
          "Europe/Belarus",
          "Europe/Belgium",
          "North America/Belize",
          "Africa/Benin",
          "North America/Bermuda",
          "Asia/Bhutan",
          "South America/Bolivia",
          "Europe/Bosnia and Herzegovina",
          "Africa/Botswana",
          "South America/Brazil",
          "North America/British Virgin Islands",
          "Asia/Brunei",
          "Europe/Bulgaria",
          "Africa/Burkina Faso",
          "Africa/Burundi",
          "Asia/Cambodia",
          "Africa/Cameroon",
          "North America/Canada",
          "Africa/Cape Verde",
          "North America/Cayman Islands",
          "Africa/Central African Republic",
          "Africa/Chad",
          "South America/Chile",
          "Asia/China",
          "South America/Colombia",
          "Africa/Comoros",
          "Oceania/Cook Islands",
          "North America/Costa Rica",
          "Europe/Croatia",
          "North America/Cuba",
          "North America/Curacao",
          "Europe/Cyprus",
          "Europe/Czech Republic",
          "Europe/Denmark",
          "Africa/Djibouti",
          "North America/Dominica",
          "North America/Dominican Republic",
          "Africa/DR Congo",
          "South America/Ecuador",
          "Africa/Egypt",
          "North America/El Salvador",
          "Africa/Equatorial Guinea",
          "Africa/Eritrea",
          "Europe/Estonia",
          "Africa/Eswatini",
          "Africa/Ethiopia",
          "South America/Falkland Islands",
          "Europe/Faroe Islands",
          "Oceania/Fiji",
          "Europe/Finland",
          "Europe/France",
          "South America/French Guiana",
          "Oceania/French Polynesia",
          "Africa/Gabon",
          "Africa/Gambia",
          "Asia/Georgia",
          "Europe/Germany",
          "Africa/Ghana",
          "Europe/Gibraltar",
          "Europe/Greece",
          "North America/Greenland",
          "North America/Grenada",
          "North America/Guadeloupe",
          "Oceania/Guam",
          "North America/Guatemala",
          "Europe/Guernsey",
          "Africa/Guinea",
          "Africa/Guinea-Bissau",
          "South America/Guyana",
          "North America/Haiti",
          "North America/Honduras",
          "Asia/Hong Kong",
          "Europe/Hungary",
          "Europe/Iceland",
          "Asia/India",
          "Asia/Indonesia",
          "Asia/Iran",
          "Asia/Iraq",
          "Europe/Ireland",
          "Europe/Isle of Man",
          "Asia/Israel",
          "Europe/Italy",
          "Africa/Ivory Coast",
          "North America/Jamaica",
          "Asia/Japan",
          "Europe/Jersey",
          "Asia/Jordan",
          "Asia/Kazakhstan",
          "Africa/Kenya",
          "Oceania/Kiribati",
          "Asia/Kuwait",
          "Asia/Kyrgyzstan",
          "Asia/Laos",
          "Europe/Latvia",
          "Asia/Lebanon",
          "Africa/Lesotho",
          "Africa/Liberia",
          "Africa/Libya",
          "Europe/Liechtenstein",
          "Europe/Lithuania",
          "Europe/Luxembourg",
          "Asia/Macau",
          "Africa/Madagascar",
          "Africa/Malawi",
          "Asia/Malaysia",
          "Asia/Maldives",
          "Africa/Mali",
          "Europe/Malta",
          "Oceania/Marshall Islands",
          "North America/Martinique",
          "Africa/Mauritania",
          "Africa/Mauritius",
          "Africa/Mayotte",
          "North America/Mexico",
          "Oceania/Micronesia",
          "Europe/Moldova",
          "Europe/Monaco",
          "Asia/Mongolia",
          "Europe/Montenegro",
          "North America/Montserrat",
          "Africa/Morocco",
          "Africa/Mozambique",
          "Asia/Myanmar",
          "Africa/Namibia",
          "Oceania/Nauru",
          "Asia/Nepal",
          "Europe/Netherlands",
          "Oceania/New Caledonia",
          "Oceania/New Zealand",
          "North America/Nicaragua",
          "Africa/Niger",
          "Africa/Nigeria",
          "Oceania/Niue",
          "Asia/North Korea",
          "Europe/North Macedonia",
          "Oceania/Northern Mariana Islands",
          "Europe/Norway",
          "Asia/Oman",
          "Asia/Pakistan",
          "Oceania/Palau",
          "Asia/Palestine",
          "North America/Panama",
          "Oceania/Papua New Guinea",
          "South America/Paraguay",
          "South America/Peru",
          "Asia/Philippines",
          "Europe/Poland",
          "Europe/Portugal",
          "North America/Puerto Rico",
          "Asia/Qatar",
          "Africa/Republic of the Congo",
          "Africa/Reunion",
          "Europe/Romania",
          "Europe/Russia",
          "Africa/Rwanda",
          "North America/Saint Barthelemy",
          "North America/Saint Kitts and Nevis",
          "North America/Saint Lucia",
          "North America/Saint Martin",
          "North America/Saint Pierre and Miquelon",
          "North America/Saint Vincent and the Grenadines",
          "Oceania/Samoa",
          "Europe/San Marino",
          "Africa/Sao Tome and Principe",
          "Asia/Saudi Arabia",
          "Africa/Senegal",
          "Europe/Serbia",
          "Africa/Seychelles",
          "Africa/Sierra Leone",
          "Asia/Singapore",
          "North America/Sint Maarten",
          "Europe/Slovakia",
          "Europe/Slovenia",
          "Oceania/Solomon Islands",
          "Africa/Somalia",
          "Africa/South Africa",
          "Asia/South Korea",
          "Africa/South Sudan",
          "Europe/Spain",
          "Asia/Sri Lanka",
          "Africa/Sudan",
          "South America/Suriname",
          "Europe/Sweden",
          "Europe/Switzerland",
          "Asia/Syria",
          "Asia/Taiwan",
          "Asia/Tajikistan",
          "Africa/Tanzania",
          "Asia/Thailand",
          "Asia/Timor-Leste",
          "Africa/Togo",
          "Oceania/Tokelau",
          "Oceania/Tonga",
          "North America/Trinidad and Tobago",
          "Africa/Tunisia",
          "Asia/Turkey",
          "Asia/Turkmenistan",
          "North America/Turks and Caicos Islands",
          "Oceania/Tuvalu",
          "Africa/Uganda",
          "Europe/Ukraine",
          "Asia/United Arab Emirates",
          "Europe/United Kingdom",
          "North America/United States",
          "North America/United States Virgin Islands",
          "South America/Uruguay",
          "Asia/Uzbekistan",
          "Oceania/Vanuatu",
          "Europe/Vatican City",
          "South America/Venezuela",
          "Asia/Vietnam",
          "Oceania/Wallis and Futuna",
          "Africa/Western Sahara",
          "Asia/Yemen",
          "Africa/Zambia",
          "Africa/Zimbabwe",
          "Asia",
          "Europe",
          "Africa",
          "Oceania",
          "North America",
          "South America"
         ],
         "labels": [
          "Afghanistan",
          "Albania",
          "Algeria",
          "American Samoa",
          "Andorra",
          "Angola",
          "Anguilla",
          "Antigua and Barbuda",
          "Argentina",
          "Armenia",
          "Aruba",
          "Australia",
          "Austria",
          "Azerbaijan",
          "Bahamas",
          "Bahrain",
          "Bangladesh",
          "Barbados",
          "Belarus",
          "Belgium",
          "Belize",
          "Benin",
          "Bermuda",
          "Bhutan",
          "Bolivia",
          "Bosnia and Herzegovina",
          "Botswana",
          "Brazil",
          "British Virgin Islands",
          "Brunei",
          "Bulgaria",
          "Burkina Faso",
          "Burundi",
          "Cambodia",
          "Cameroon",
          "Canada",
          "Cape Verde",
          "Cayman Islands",
          "Central African Republic",
          "Chad",
          "Chile",
          "China",
          "Colombia",
          "Comoros",
          "Cook Islands",
          "Costa Rica",
          "Croatia",
          "Cuba",
          "Curacao",
          "Cyprus",
          "Czech Republic",
          "Denmark",
          "Djibouti",
          "Dominica",
          "Dominican Republic",
          "DR Congo",
          "Ecuador",
          "Egypt",
          "El Salvador",
          "Equatorial Guinea",
          "Eritrea",
          "Estonia",
          "Eswatini",
          "Ethiopia",
          "Falkland Islands",
          "Faroe Islands",
          "Fiji",
          "Finland",
          "France",
          "French Guiana",
          "French Polynesia",
          "Gabon",
          "Gambia",
          "Georgia",
          "Germany",
          "Ghana",
          "Gibraltar",
          "Greece",
          "Greenland",
          "Grenada",
          "Guadeloupe",
          "Guam",
          "Guatemala",
          "Guernsey",
          "Guinea",
          "Guinea-Bissau",
          "Guyana",
          "Haiti",
          "Honduras",
          "Hong Kong",
          "Hungary",
          "Iceland",
          "India",
          "Indonesia",
          "Iran",
          "Iraq",
          "Ireland",
          "Isle of Man",
          "Israel",
          "Italy",
          "Ivory Coast",
          "Jamaica",
          "Japan",
          "Jersey",
          "Jordan",
          "Kazakhstan",
          "Kenya",
          "Kiribati",
          "Kuwait",
          "Kyrgyzstan",
          "Laos",
          "Latvia",
          "Lebanon",
          "Lesotho",
          "Liberia",
          "Libya",
          "Liechtenstein",
          "Lithuania",
          "Luxembourg",
          "Macau",
          "Madagascar",
          "Malawi",
          "Malaysia",
          "Maldives",
          "Mali",
          "Malta",
          "Marshall Islands",
          "Martinique",
          "Mauritania",
          "Mauritius",
          "Mayotte",
          "Mexico",
          "Micronesia",
          "Moldova",
          "Monaco",
          "Mongolia",
          "Montenegro",
          "Montserrat",
          "Morocco",
          "Mozambique",
          "Myanmar",
          "Namibia",
          "Nauru",
          "Nepal",
          "Netherlands",
          "New Caledonia",
          "New Zealand",
          "Nicaragua",
          "Niger",
          "Nigeria",
          "Niue",
          "North Korea",
          "North Macedonia",
          "Northern Mariana Islands",
          "Norway",
          "Oman",
          "Pakistan",
          "Palau",
          "Palestine",
          "Panama",
          "Papua New Guinea",
          "Paraguay",
          "Peru",
          "Philippines",
          "Poland",
          "Portugal",
          "Puerto Rico",
          "Qatar",
          "Republic of the Congo",
          "Reunion",
          "Romania",
          "Russia",
          "Rwanda",
          "Saint Barthelemy",
          "Saint Kitts and Nevis",
          "Saint Lucia",
          "Saint Martin",
          "Saint Pierre and Miquelon",
          "Saint Vincent and the Grenadines",
          "Samoa",
          "San Marino",
          "Sao Tome and Principe",
          "Saudi Arabia",
          "Senegal",
          "Serbia",
          "Seychelles",
          "Sierra Leone",
          "Singapore",
          "Sint Maarten",
          "Slovakia",
          "Slovenia",
          "Solomon Islands",
          "Somalia",
          "South Africa",
          "South Korea",
          "South Sudan",
          "Spain",
          "Sri Lanka",
          "Sudan",
          "Suriname",
          "Sweden",
          "Switzerland",
          "Syria",
          "Taiwan",
          "Tajikistan",
          "Tanzania",
          "Thailand",
          "Timor-Leste",
          "Togo",
          "Tokelau",
          "Tonga",
          "Trinidad and Tobago",
          "Tunisia",
          "Turkey",
          "Turkmenistan",
          "Turks and Caicos Islands",
          "Tuvalu",
          "Uganda",
          "Ukraine",
          "United Arab Emirates",
          "United Kingdom",
          "United States",
          "United States Virgin Islands",
          "Uruguay",
          "Uzbekistan",
          "Vanuatu",
          "Vatican City",
          "Venezuela",
          "Vietnam",
          "Wallis and Futuna",
          "Western Sahara",
          "Yemen",
          "Zambia",
          "Zimbabwe",
          "Asia",
          "Europe",
          "Africa",
          "Oceania",
          "North America",
          "South America"
         ],
         "marker": {
          "coloraxis": "coloraxis",
          "colors": {
           "bdata": "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",
           "dtype": "f8"
          }
         },
         "name": "",
         "parents": [
          "Asia",
          "Europe",
          "Africa",
          "Oceania",
          "Europe",
          "Africa",
          "North America",
          "North America",
          "South America",
          "Asia",
          "North America",
          "Oceania",
          "Europe",
          "Asia",
          "North America",
          "Asia",
          "Asia",
          "North America",
          "Europe",
          "Europe",
          "North America",
          "Africa",
          "North America",
          "Asia",
          "South America",
          "Europe",
          "Africa",
          "South America",
          "North America",
          "Asia",
          "Europe",
          "Africa",
          "Africa",
          "Asia",
          "Africa",
          "North America",
          "Africa",
          "North America",
          "Africa",
          "Africa",
          "South America",
          "Asia",
          "South America",
          "Africa",
          "Oceania",
          "North America",
          "Europe",
          "North America",
          "North America",
          "Europe",
          "Europe",
          "Europe",
          "Africa",
          "North America",
          "North America",
          "Africa",
          "South America",
          "Africa",
          "North America",
          "Africa",
          "Africa",
          "Europe",
          "Africa",
          "Africa",
          "South America",
          "Europe",
          "Oceania",
          "Europe",
          "Europe",
          "South America",
          "Oceania",
          "Africa",
          "Africa",
          "Asia",
          "Europe",
          "Africa",
          "Europe",
          "Europe",
          "North America",
          "North America",
          "North America",
          "Oceania",
          "North America",
          "Europe",
          "Africa",
          "Africa",
          "South America",
          "North America",
          "North America",
          "Asia",
          "Europe",
          "Europe",
          "Asia",
          "Asia",
          "Asia",
          "Asia",
          "Europe",
          "Europe",
          "Asia",
          "Europe",
          "Africa",
          "North America",
          "Asia",
          "Europe",
          "Asia",
          "Asia",
          "Africa",
          "Oceania",
          "Asia",
          "Asia",
          "Asia",
          "Europe",
          "Asia",
          "Africa",
          "Africa",
          "Africa",
          "Europe",
          "Europe",
          "Europe",
          "Asia",
          "Africa",
          "Africa",
          "Asia",
          "Asia",
          "Africa",
          "Europe",
          "Oceania",
          "North America",
          "Africa",
          "Africa",
          "Africa",
          "North America",
          "Oceania",
          "Europe",
          "Europe",
          "Asia",
          "Europe",
          "North America",
          "Africa",
          "Africa",
          "Asia",
          "Africa",
          "Oceania",
          "Asia",
          "Europe",
          "Oceania",
          "Oceania",
          "North America",
          "Africa",
          "Africa",
          "Oceania",
          "Asia",
          "Europe",
          "Oceania",
          "Europe",
          "Asia",
          "Asia",
          "Oceania",
          "Asia",
          "North America",
          "Oceania",
          "South America",
          "South America",
          "Asia",
          "Europe",
          "Europe",
          "North America",
          "Asia",
          "Africa",
          "Africa",
          "Europe",
          "Europe",
          "Africa",
          "North America",
          "North America",
          "North America",
          "North America",
          "North America",
          "North America",
          "Oceania",
          "Europe",
          "Africa",
          "Asia",
          "Africa",
          "Europe",
          "Africa",
          "Africa",
          "Asia",
          "North America",
          "Europe",
          "Europe",
          "Oceania",
          "Africa",
          "Africa",
          "Asia",
          "Africa",
          "Europe",
          "Asia",
          "Africa",
          "South America",
          "Europe",
          "Europe",
          "Asia",
          "Asia",
          "Asia",
          "Africa",
          "Asia",
          "Asia",
          "Africa",
          "Oceania",
          "Oceania",
          "North America",
          "Africa",
          "Asia",
          "Asia",
          "North America",
          "Oceania",
          "Africa",
          "Europe",
          "Asia",
          "Europe",
          "North America",
          "North America",
          "South America",
          "Asia",
          "Oceania",
          "Europe",
          "South America",
          "Asia",
          "Oceania",
          "Africa",
          "Asia",
          "Africa",
          "Africa",
          "",
          "",
          "",
          "",
          "",
          ""
         ],
         "type": "treemap",
         "values": {
          "bdata": "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",
          "dtype": "f8"
         }
        }
       ],
       "layout": {
        "coloraxis": {
         "colorbar": {
          "title": {
           "text": "log_pop"
          }
         },
         "colorscale": [
          [
           0,
           "#440154"
          ],
          [
           0.1111111111111111,
           "#482878"
          ],
          [
           0.2222222222222222,
           "#3e4989"
          ],
          [
           0.3333333333333333,
           "#31688e"
          ],
          [
           0.4444444444444444,
           "#26828e"
          ],
          [
           0.5555555555555556,
           "#1f9e89"
          ],
          [
           0.6666666666666666,
           "#35b779"
          ],
          [
           0.7777777777777778,
           "#6ece58"
          ],
          [
           0.8888888888888888,
           "#b5de2b"
          ],
          [
           1,
           "#fde725"
          ]
         ]
        },
        "legend": {
         "tracegroupgap": 0
        },
        "template": {
         "data": {
          "bar": [
           {
            "error_x": {
             "color": "#2a3f5f"
            },
            "error_y": {
             "color": "#2a3f5f"
            },
            "marker": {
             "line": {
              "color": "#E5ECF6",
              "width": 0.5
             },
             "pattern": {
              "fillmode": "overlay",
              "size": 10,
              "solidity": 0.2
             }
            },
            "type": "bar"
           }
          ],
          "barpolar": [
           {
            "marker": {
             "line": {
              "color": "#E5ECF6",
              "width": 0.5
             },
             "pattern": {
              "fillmode": "overlay",
              "size": 10,
              "solidity": 0.2
             }
            },
            "type": "barpolar"
           }
          ],
          "carpet": [
           {
            "aaxis": {
             "endlinecolor": "#2a3f5f",
             "gridcolor": "white",
             "linecolor": "white",
             "minorgridcolor": "white",
             "startlinecolor": "#2a3f5f"
            },
            "baxis": {
             "endlinecolor": "#2a3f5f",
             "gridcolor": "white",
             "linecolor": "white",
             "minorgridcolor": "white",
             "startlinecolor": "#2a3f5f"
            },
            "type": "carpet"
           }
          ],
          "choropleth": [
           {
            "colorbar": {
             "outlinewidth": 0,
             "ticks": ""
            },
            "type": "choropleth"
           }
          ],
          "contour": [
           {
            "colorbar": {
             "outlinewidth": 0,
             "ticks": ""
            },
            "colorscale": [
             [
              0,
              "#0d0887"
             ],
             [
              0.1111111111111111,
              "#46039f"
             ],
             [
              0.2222222222222222,
              "#7201a8"
             ],
             [
              0.3333333333333333,
              "#9c179e"
             ],
             [
              0.4444444444444444,
              "#bd3786"
             ],
             [
              0.5555555555555556,
              "#d8576b"
             ],
             [
              0.6666666666666666,
              "#ed7953"
             ],
             [
              0.7777777777777778,
              "#fb9f3a"
             ],
             [
              0.8888888888888888,
              "#fdca26"
             ],
             [
              1,
              "#f0f921"
             ]
            ],
            "type": "contour"
           }
          ],
          "contourcarpet": [
           {
            "colorbar": {
             "outlinewidth": 0,
             "ticks": ""
            },
            "type": "contourcarpet"
           }
          ],
          "heatmap": [
           {
            "colorbar": {
             "outlinewidth": 0,
             "ticks": ""
            },
            "colorscale": [
             [
              0,
              "#0d0887"
             ],
             [
              0.1111111111111111,
              "#46039f"
             ],
             [
              0.2222222222222222,
              "#7201a8"
             ],
             [
              0.3333333333333333,
              "#9c179e"
             ],
             [
              0.4444444444444444,
              "#bd3786"
             ],
             [
              0.5555555555555556,
              "#d8576b"
             ],
             [
              0.6666666666666666,
              "#ed7953"
             ],
             [
              0.7777777777777778,
              "#fb9f3a"
             ],
             [
              0.8888888888888888,
              "#fdca26"
             ],
             [
              1,
              "#f0f921"
             ]
            ],
            "type": "heatmap"
           }
          ],
          "histogram": [
           {
            "marker": {
             "pattern": {
              "fillmode": "overlay",
              "size": 10,
              "solidity": 0.2
             }
            },
            "type": "histogram"
           }
          ],
          "histogram2d": [
           {
            "colorbar": {
             "outlinewidth": 0,
             "ticks": ""
            },
            "colorscale": [
             [
              0,
              "#0d0887"
             ],
             [
              0.1111111111111111,
              "#46039f"
             ],
             [
              0.2222222222222222,
              "#7201a8"
             ],
             [
              0.3333333333333333,
              "#9c179e"
             ],
             [
              0.4444444444444444,
              "#bd3786"
             ],
             [
              0.5555555555555556,
              "#d8576b"
             ],
             [
              0.6666666666666666,
              "#ed7953"
             ],
             [
              0.7777777777777778,
              "#fb9f3a"
             ],
             [
              0.8888888888888888,
              "#fdca26"
             ],
             [
              1,
              "#f0f921"
             ]
            ],
            "type": "histogram2d"
           }
          ],
          "histogram2dcontour": [
           {
            "colorbar": {
             "outlinewidth": 0,
             "ticks": ""
            },
            "colorscale": [
             [
              0,
              "#0d0887"
             ],
             [
              0.1111111111111111,
              "#46039f"
             ],
             [
              0.2222222222222222,
              "#7201a8"
             ],
             [
              0.3333333333333333,
              "#9c179e"
             ],
             [
              0.4444444444444444,
              "#bd3786"
             ],
             [
              0.5555555555555556,
              "#d8576b"
             ],
             [
              0.6666666666666666,
              "#ed7953"
             ],
             [
              0.7777777777777778,
              "#fb9f3a"
             ],
             [
              0.8888888888888888,
              "#fdca26"
             ],
             [
              1,
              "#f0f921"
             ]
            ],
            "type": "histogram2dcontour"
           }
          ],
          "mesh3d": [
           {
            "colorbar": {
             "outlinewidth": 0,
             "ticks": ""
            },
            "type": "mesh3d"
           }
          ],
          "parcoords": [
           {
            "line": {
             "colorbar": {
              "outlinewidth": 0,
              "ticks": ""
             }
            },
            "type": "parcoords"
           }
          ],
          "pie": [
           {
            "automargin": true,
            "type": "pie"
           }
          ],
          "scatter": [
           {
            "fillpattern": {
             "fillmode": "overlay",
             "size": 10,
             "solidity": 0.2
            },
            "type": "scatter"
           }
          ],
          "scatter3d": [
           {
            "line": {
             "colorbar": {
              "outlinewidth": 0,
              "ticks": ""
             }
            },
            "marker": {
             "colorbar": {
              "outlinewidth": 0,
              "ticks": ""
             }
            },
            "type": "scatter3d"
           }
          ],
          "scattercarpet": [
           {
            "marker": {
             "colorbar": {
              "outlinewidth": 0,
              "ticks": ""
             }
            },
            "type": "scattercarpet"
           }
          ],
          "scattergeo": [
           {
            "marker": {
             "colorbar": {
              "outlinewidth": 0,
              "ticks": ""
             }
            },
            "type": "scattergeo"
           }
          ],
          "scattergl": [
           {
            "marker": {
             "colorbar": {
              "outlinewidth": 0,
              "ticks": ""
             }
            },
            "type": "scattergl"
           }
          ],
          "scattermap": [
           {
            "marker": {
             "colorbar": {
              "outlinewidth": 0,
              "ticks": ""
             }
            },
            "type": "scattermap"
           }
          ],
          "scattermapbox": [
           {
            "marker": {
             "colorbar": {
              "outlinewidth": 0,
              "ticks": ""
             }
            },
            "type": "scattermapbox"
           }
          ],
          "scatterpolar": [
           {
            "marker": {
             "colorbar": {
              "outlinewidth": 0,
              "ticks": ""
             }
            },
            "type": "scatterpolar"
           }
          ],
          "scatterpolargl": [
           {
            "marker": {
             "colorbar": {
              "outlinewidth": 0,
              "ticks": ""
             }
            },
            "type": "scatterpolargl"
           }
          ],
          "scatterternary": [
           {
            "marker": {
             "colorbar": {
              "outlinewidth": 0,
              "ticks": ""
             }
            },
            "type": "scatterternary"
           }
          ],
          "surface": [
           {
            "colorbar": {
             "outlinewidth": 0,
             "ticks": ""
            },
            "colorscale": [
             [
              0,
              "#0d0887"
             ],
             [
              0.1111111111111111,
              "#46039f"
             ],
             [
              0.2222222222222222,
              "#7201a8"
             ],
             [
              0.3333333333333333,
              "#9c179e"
             ],
             [
              0.4444444444444444,
              "#bd3786"
             ],
             [
              0.5555555555555556,
              "#d8576b"
             ],
             [
              0.6666666666666666,
              "#ed7953"
             ],
             [
              0.7777777777777778,
              "#fb9f3a"
             ],
             [
              0.8888888888888888,
              "#fdca26"
             ],
             [
              1,
              "#f0f921"
             ]
            ],
            "type": "surface"
           }
          ],
          "table": [
           {
            "cells": {
             "fill": {
              "color": "#EBF0F8"
             },
             "line": {
              "color": "white"
             }
            },
            "header": {
             "fill": {
              "color": "#C8D4E3"
             },
             "line": {
              "color": "white"
             }
            },
            "type": "table"
           }
          ]
         },
         "layout": {
          "annotationdefaults": {
           "arrowcolor": "#2a3f5f",
           "arrowhead": 0,
           "arrowwidth": 1
          },
          "autotypenumbers": "strict",
          "coloraxis": {
           "colorbar": {
            "outlinewidth": 0,
            "ticks": ""
           }
          },
          "colorscale": {
           "diverging": [
            [
             0,
             "#8e0152"
            ],
            [
             0.1,
             "#c51b7d"
            ],
            [
             0.2,
             "#de77ae"
            ],
            [
             0.3,
             "#f1b6da"
            ],
            [
             0.4,
             "#fde0ef"
            ],
            [
             0.5,
             "#f7f7f7"
            ],
            [
             0.6,
             "#e6f5d0"
            ],
            [
             0.7,
             "#b8e186"
            ],
            [
             0.8,
             "#7fbc41"
            ],
            [
             0.9,
             "#4d9221"
            ],
            [
             1,
             "#276419"
            ]
           ],
           "sequential": [
            [
             0,
             "#0d0887"
            ],
            [
             0.1111111111111111,
             "#46039f"
            ],
            [
             0.2222222222222222,
             "#7201a8"
            ],
            [
             0.3333333333333333,
             "#9c179e"
            ],
            [
             0.4444444444444444,
             "#bd3786"
            ],
            [
             0.5555555555555556,
             "#d8576b"
            ],
            [
             0.6666666666666666,
             "#ed7953"
            ],
            [
             0.7777777777777778,
             "#fb9f3a"
            ],
            [
             0.8888888888888888,
             "#fdca26"
            ],
            [
             1,
             "#f0f921"
            ]
           ],
           "sequentialminus": [
            [
             0,
             "#0d0887"
            ],
            [
             0.1111111111111111,
             "#46039f"
            ],
            [
             0.2222222222222222,
             "#7201a8"
            ],
            [
             0.3333333333333333,
             "#9c179e"
            ],
            [
             0.4444444444444444,
             "#bd3786"
            ],
            [
             0.5555555555555556,
             "#d8576b"
            ],
            [
             0.6666666666666666,
             "#ed7953"
            ],
            [
             0.7777777777777778,
             "#fb9f3a"
            ],
            [
             0.8888888888888888,
             "#fdca26"
            ],
            [
             1,
             "#f0f921"
            ]
           ]
          },
          "colorway": [
           "#636efa",
           "#EF553B",
           "#00cc96",
           "#ab63fa",
           "#FFA15A",
           "#19d3f3",
           "#FF6692",
           "#B6E880",
           "#FF97FF",
           "#FECB52"
          ],
          "font": {
           "color": "#2a3f5f"
          },
          "geo": {
           "bgcolor": "white",
           "lakecolor": "white",
           "landcolor": "#E5ECF6",
           "showlakes": true,
           "showland": true,
           "subunitcolor": "white"
          },
          "hoverlabel": {
           "align": "left"
          },
          "hovermode": "closest",
          "mapbox": {
           "style": "light"
          },
          "paper_bgcolor": "white",
          "plot_bgcolor": "#E5ECF6",
          "polar": {
           "angularaxis": {
            "gridcolor": "white",
            "linecolor": "white",
            "ticks": ""
           },
           "bgcolor": "#E5ECF6",
           "radialaxis": {
            "gridcolor": "white",
            "linecolor": "white",
            "ticks": ""
           }
          },
          "scene": {
           "xaxis": {
            "backgroundcolor": "#E5ECF6",
            "gridcolor": "white",
            "gridwidth": 2,
            "linecolor": "white",
            "showbackground": true,
            "ticks": "",
            "zerolinecolor": "white"
           },
           "yaxis": {
            "backgroundcolor": "#E5ECF6",
            "gridcolor": "white",
            "gridwidth": 2,
            "linecolor": "white",
            "showbackground": true,
            "ticks": "",
            "zerolinecolor": "white"
           },
           "zaxis": {
            "backgroundcolor": "#E5ECF6",
            "gridcolor": "white",
            "gridwidth": 2,
            "linecolor": "white",
            "showbackground": true,
            "ticks": "",
            "zerolinecolor": "white"
           }
          },
          "shapedefaults": {
           "line": {
            "color": "#2a3f5f"
           }
          },
          "ternary": {
           "aaxis": {
            "gridcolor": "white",
            "linecolor": "white",
            "ticks": ""
           },
           "baxis": {
            "gridcolor": "white",
            "linecolor": "white",
            "ticks": ""
           },
           "bgcolor": "#E5ECF6",
           "caxis": {
            "gridcolor": "white",
            "linecolor": "white",
            "ticks": ""
           }
          },
          "title": {
           "x": 0.05
          },
          "xaxis": {
           "automargin": true,
           "gridcolor": "white",
           "linecolor": "white",
           "ticks": "",
           "title": {
            "standoff": 15
           },
           "zerolinecolor": "white",
           "zerolinewidth": 2
          },
          "yaxis": {
           "automargin": true,
           "gridcolor": "white",
           "linecolor": "white",
           "ticks": "",
           "title": {
            "standoff": 15
           },
           "zerolinecolor": "white",
           "zerolinewidth": 2
          }
         }
        },
        "title": {
         "text": "World Population Treemap (2022, Log Scale Colors)"
        }
       }
      }
     },
     "metadata": {},
     "output_type": "display_data"
    }
   ],
   "source": [
    "import numpy as np\n",
    "import plotly.express as px\n",
    "\n",
    "# Add a log-transformed column for color scaling\n",
    "df[\"log_pop\"] = np.log10(df[\"2022 Population\"])\n",
    "\n",
    "# Treemap with log scale colors\n",
    "fig = px.treemap(\n",
    "    df,\n",
    "    path=[\"Continent\", \"Country/Territory\"],\n",
    "    values=\"2022 Population\",\n",
    "    color=\"log_pop\",  # log scale for color\n",
    "    color_continuous_scale=\"Viridis\",\n",
    "    title=\"World Population Treemap (2022, Log Scale Colors)\"\n",
    ")\n",
    "\n",
    "fig.show()\n"
   ]
  }
 ],
 "metadata": {
  "kernelspec": {
   "display_name": "Python 3",
   "language": "python",
   "name": "python3"
  },
  "language_info": {
   "codemirror_mode": {
    "name": "ipython",
    "version": 3
   },
   "file_extension": ".py",
   "mimetype": "text/x-python",
   "name": "python",
   "nbconvert_exporter": "python",
   "pygments_lexer": "ipython3",
   "version": "3.12.1"
  }
 },
 "nbformat": 4,
 "nbformat_minor": 5
}
